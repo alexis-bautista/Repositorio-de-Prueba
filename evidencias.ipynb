{
 "cells": [
  {
   "cell_type": "markdown",
   "metadata": {},
   "source": [
    "# Actividad extracurricular 11 - Curso de GIT y GITHUB\n",
    "\n",
    "**Nombre:** Alexis Bautista  \n",
    "**Fecha de entrega:** 04 de enero de 2025  \n",
    "**Paralelo:** GR1CC  \n",
    "**Enlace de GitHub:** https://github.com/alexis-bautista/Repositorio-de-Prueba"
   ]
  },
  {
   "cell_type": "markdown",
   "metadata": {},
   "source": [
    "## Evidencia de curso terminado\n",
    "\n",
    "![](ADJUNTOS/cursoTerminado.png)\n",
    "\n",
    "**Enlace del curso en YouTube:** https://youtu.be/3GymExBkKjE?si=dC8gCpXQgjsVSnJs"
   ]
  }
 ],
 "metadata": {
  "kernelspec": {
   "display_name": "Python 3",
   "language": "python",
   "name": "python3"
  },
  "language_info": {
   "name": "python",
   "version": "3.13.0"
  }
 },
 "nbformat": 4,
 "nbformat_minor": 2
}
